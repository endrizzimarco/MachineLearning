{
 "cells": [
  {
   "cell_type": "code",
   "execution_count": 3,
   "metadata": {},
   "outputs": [
    {
     "data": {
      "text/plain": [
       "'2.1.0'"
      ]
     },
     "execution_count": 3,
     "metadata": {},
     "output_type": "execute_result"
    }
   ],
   "source": [
    "import tensorflow as tf\n",
    "from tensorflow import keras"
   ]
  },
  {
   "cell_type": "code",
   "execution_count": 4,
   "metadata": {},
   "outputs": [
    {
     "name": "stdout",
     "output_type": "stream",
     "text": [
      "Downloading data from https://storage.googleapis.com/tensorflow/tf-keras-datasets/train-labels-idx1-ubyte.gz\n",
      "32768/29515 [=================================] - 0s 2us/step\n",
      "Downloading data from https://storage.googleapis.com/tensorflow/tf-keras-datasets/train-images-idx3-ubyte.gz\n",
      "26427392/26421880 [==============================] - 32s 1us/step\n",
      "Downloading data from https://storage.googleapis.com/tensorflow/tf-keras-datasets/t10k-labels-idx1-ubyte.gz\n",
      "8192/5148 [===============================================] - 0s 0us/step\n",
      "Downloading data from https://storage.googleapis.com/tensorflow/tf-keras-datasets/t10k-images-idx3-ubyte.gz\n",
      "4423680/4422102 [==============================] - 4s 1us/step\n"
     ]
    }
   ],
   "source": [
    "fashion_mnist = keras.datasets.fashion_mnist\n",
    "(X_train_full, y_train_full), (X_test, y_test) = fashion_mnist.load_data()"
   ]
  },
  {
   "cell_type": "code",
   "execution_count": 5,
   "metadata": {},
   "outputs": [
    {
     "data": {
      "text/plain": [
       "(60000, 28, 28)"
      ]
     },
     "execution_count": 5,
     "metadata": {},
     "output_type": "execute_result"
    }
   ],
   "source": [
    "X_train_full.shape"
   ]
  },
  {
   "cell_type": "code",
   "execution_count": 6,
   "metadata": {},
   "outputs": [
    {
     "data": {
      "text/plain": [
       "dtype('uint8')"
      ]
     },
     "execution_count": 6,
     "metadata": {},
     "output_type": "execute_result"
    }
   ],
   "source": [
    "X_train_full.dtype"
   ]
  },
  {
   "cell_type": "code",
   "execution_count": 12,
   "metadata": {},
   "outputs": [],
   "source": [
    "X_val, X_train = X_train_full[:5000] / 255.0, X_train_full[5000:] / 255.0"
   ]
  },
  {
   "cell_type": "code",
   "execution_count": 15,
   "metadata": {},
   "outputs": [],
   "source": [
    "y_val, y_train = y_train_full[:5000], y_train_full[5000:] "
   ]
  },
  {
   "cell_type": "code",
   "execution_count": 18,
   "metadata": {},
   "outputs": [],
   "source": [
    "label_names = [\"T-shirt/top\", \"Trouser\", \"Pullover\", \"Dress\", \"Coat\",\n",
    " \"Sandal\", \"Shirt\", \"Sneaker\", \"Bag\", \"Ankle boot\"]"
   ]
  },
  {
   "cell_type": "code",
   "execution_count": 20,
   "metadata": {},
   "outputs": [
    {
     "name": "stdout",
     "output_type": "stream",
     "text": [
      "Model: \"sequential\"\n",
      "_________________________________________________________________\n",
      "Layer (type)                 Output Shape              Param #   \n",
      "=================================================================\n",
      "flatten (Flatten)            (None, 784)               0         \n",
      "_________________________________________________________________\n",
      "dense (Dense)                (None, 300)               235500    \n",
      "_________________________________________________________________\n",
      "dense_1 (Dense)              (None, 100)               30100     \n",
      "_________________________________________________________________\n",
      "dense_2 (Dense)              (None, 10)                1010      \n",
      "=================================================================\n",
      "Total params: 266,610\n",
      "Trainable params: 266,610\n",
      "Non-trainable params: 0\n",
      "_________________________________________________________________\n"
     ]
    }
   ],
   "source": [
    "model = keras.models.Sequential([\n",
    "    keras.layers.Flatten(input_shape=[28, 28]),\n",
    "    keras.layers.Dense(300, activation='relu'),\n",
    "    keras.layers.Dense(100, activation='relu'),\n",
    "    keras.layers.Dense(10, activation='softmax')\n",
    "])\n",
    "\n",
    "model.summary()"
   ]
  },
  {
   "cell_type": "code",
   "execution_count": 21,
   "metadata": {},
   "outputs": [],
   "source": [
    "model.compile(loss='sparse_categorical_crossentropy',\n",
    "              optimizer='sgd',\n",
    "              metrics=['accuracy'])"
   ]
  },
  {
   "cell_type": "code",
   "execution_count": 22,
   "metadata": {},
   "outputs": [
    {
     "name": "stdout",
     "output_type": "stream",
     "text": [
      "Train on 55000 samples, validate on 5000 samples\n",
      "Epoch 1/30\n",
      "55000/55000 [==============================] - 5s 82us/sample - loss: 0.7005 - accuracy: 0.7713 - val_loss: 0.4886 - val_accuracy: 0.8362\n",
      "Epoch 2/30\n",
      "55000/55000 [==============================] - 4s 75us/sample - loss: 0.4814 - accuracy: 0.8326 - val_loss: 0.4496 - val_accuracy: 0.8470\n",
      "Epoch 3/30\n",
      "55000/55000 [==============================] - 4s 72us/sample - loss: 0.4377 - accuracy: 0.8459 - val_loss: 0.4425 - val_accuracy: 0.8500\n",
      "Epoch 4/30\n",
      "55000/55000 [==============================] - 4s 72us/sample - loss: 0.4121 - accuracy: 0.8552 - val_loss: 0.3960 - val_accuracy: 0.8628\n",
      "Epoch 5/30\n",
      "55000/55000 [==============================] - 4s 72us/sample - loss: 0.3919 - accuracy: 0.8620 - val_loss: 0.3831 - val_accuracy: 0.8702\n",
      "Epoch 6/30\n",
      "55000/55000 [==============================] - 4s 72us/sample - loss: 0.3751 - accuracy: 0.8682 - val_loss: 0.4039 - val_accuracy: 0.8578\n",
      "Epoch 7/30\n",
      "55000/55000 [==============================] - 4s 73us/sample - loss: 0.3621 - accuracy: 0.8712 - val_loss: 0.3691 - val_accuracy: 0.8718\n",
      "Epoch 8/30\n",
      "55000/55000 [==============================] - 4s 73us/sample - loss: 0.3508 - accuracy: 0.8749 - val_loss: 0.3603 - val_accuracy: 0.8746\n",
      "Epoch 9/30\n",
      "55000/55000 [==============================] - 4s 68us/sample - loss: 0.3404 - accuracy: 0.8791 - val_loss: 0.3468 - val_accuracy: 0.8772\n",
      "Epoch 10/30\n",
      "55000/55000 [==============================] - 4s 66us/sample - loss: 0.3322 - accuracy: 0.8813 - val_loss: 0.3492 - val_accuracy: 0.8782\n",
      "Epoch 11/30\n",
      "55000/55000 [==============================] - 4s 69us/sample - loss: 0.3244 - accuracy: 0.8822 - val_loss: 0.3576 - val_accuracy: 0.8770\n",
      "Epoch 12/30\n",
      "55000/55000 [==============================] - 4s 73us/sample - loss: 0.3153 - accuracy: 0.8875 - val_loss: 0.3321 - val_accuracy: 0.8820\n",
      "Epoch 13/30\n",
      "55000/55000 [==============================] - 4s 70us/sample - loss: 0.3093 - accuracy: 0.8891 - val_loss: 0.3224 - val_accuracy: 0.8854\n",
      "Epoch 14/30\n",
      "55000/55000 [==============================] - 4s 68us/sample - loss: 0.3022 - accuracy: 0.8901 - val_loss: 0.3385 - val_accuracy: 0.8798\n",
      "Epoch 15/30\n",
      "55000/55000 [==============================] - 4s 69us/sample - loss: 0.2958 - accuracy: 0.8930 - val_loss: 0.3348 - val_accuracy: 0.8788\n",
      "Epoch 16/30\n",
      "55000/55000 [==============================] - 4s 69us/sample - loss: 0.2902 - accuracy: 0.8949 - val_loss: 0.3200 - val_accuracy: 0.8888\n",
      "Epoch 17/30\n",
      "55000/55000 [==============================] - 4s 70us/sample - loss: 0.2839 - accuracy: 0.8971 - val_loss: 0.3256 - val_accuracy: 0.8832\n",
      "Epoch 18/30\n",
      "55000/55000 [==============================] - 4s 68us/sample - loss: 0.2785 - accuracy: 0.8988 - val_loss: 0.3226 - val_accuracy: 0.8814\n",
      "Epoch 19/30\n",
      "55000/55000 [==============================] - 4s 66us/sample - loss: 0.2733 - accuracy: 0.9009 - val_loss: 0.3219 - val_accuracy: 0.8898\n",
      "Epoch 20/30\n",
      "55000/55000 [==============================] - 4s 68us/sample - loss: 0.2682 - accuracy: 0.9038 - val_loss: 0.3110 - val_accuracy: 0.8892\n",
      "Epoch 21/30\n",
      "55000/55000 [==============================] - 4s 70us/sample - loss: 0.2637 - accuracy: 0.9050 - val_loss: 0.3089 - val_accuracy: 0.8898\n",
      "Epoch 22/30\n",
      "55000/55000 [==============================] - 4s 69us/sample - loss: 0.2593 - accuracy: 0.9062 - val_loss: 0.3071 - val_accuracy: 0.8908\n",
      "Epoch 23/30\n",
      "55000/55000 [==============================] - 4s 70us/sample - loss: 0.2543 - accuracy: 0.9080 - val_loss: 0.3211 - val_accuracy: 0.8802\n",
      "Epoch 24/30\n",
      "55000/55000 [==============================] - 4s 70us/sample - loss: 0.2501 - accuracy: 0.9099 - val_loss: 0.3152 - val_accuracy: 0.8844\n",
      "Epoch 25/30\n",
      "55000/55000 [==============================] - 4s 69us/sample - loss: 0.2468 - accuracy: 0.9108 - val_loss: 0.2976 - val_accuracy: 0.8938\n",
      "Epoch 26/30\n",
      "55000/55000 [==============================] - 4s 79us/sample - loss: 0.2423 - accuracy: 0.9120 - val_loss: 0.3151 - val_accuracy: 0.8884\n",
      "Epoch 27/30\n",
      "55000/55000 [==============================] - 4s 73us/sample - loss: 0.2380 - accuracy: 0.9129 - val_loss: 0.3081 - val_accuracy: 0.8872\n",
      "Epoch 28/30\n",
      "55000/55000 [==============================] - 4s 68us/sample - loss: 0.2335 - accuracy: 0.9168 - val_loss: 0.2981 - val_accuracy: 0.8930\n",
      "Epoch 29/30\n",
      "55000/55000 [==============================] - 4s 67us/sample - loss: 0.2298 - accuracy: 0.9177 - val_loss: 0.2988 - val_accuracy: 0.8938\n",
      "Epoch 30/30\n",
      "55000/55000 [==============================] - 4s 70us/sample - loss: 0.2266 - accuracy: 0.9192 - val_loss: 0.2978 - val_accuracy: 0.8936\n"
     ]
    }
   ],
   "source": [
    "history = model.fit(X_train, y_train, epochs=30,\n",
    "                    validation_data=(X_val, y_val))"
   ]
  },
  {
   "cell_type": "code",
   "execution_count": 23,
   "metadata": {},
   "outputs": [
    {
     "data": {
      "text/plain": [
       "{'batch_size': 32,\n",
       " 'epochs': 30,\n",
       " 'steps': 1719,\n",
       " 'samples': 55000,\n",
       " 'verbose': 0,\n",
       " 'do_validation': True,\n",
       " 'metrics': ['loss', 'accuracy', 'val_loss', 'val_accuracy']}"
      ]
     },
     "execution_count": 23,
     "metadata": {},
     "output_type": "execute_result"
    }
   ],
   "source": [
    "history.params"
   ]
  },
  {
   "cell_type": "code",
   "execution_count": 34,
   "metadata": {},
   "outputs": [
    {
     "data": {
      "image/png": "[encoded data removed]",
      "text/plain": [
       "<Figure size 576x360 with 1 Axes>"
      ]
     },
     "metadata": {
      "needs_background": "light"
     },
     "output_type": "display_data"
    }
   ],
   "source": [
    "import pandas as pd \n",
    "import matplotlib.pyplot as plt\n",
    "\n",
    "pd.DataFrame(history.history).plot(figsize=(8,5))\n",
    "plt.grid(True)\n",
    "plt.gca().set_ylim(0, 1) \n",
    "plt.show()"
   ]
  },
  {
   "cell_type": "code",
   "execution_count": 35,
   "metadata": {},
   "outputs": [
    {
     "name": "stdout",
     "output_type": "stream",
     "text": [
      "Train on 55000 samples, validate on 5000 samples\n",
      "Epoch 1/30\n",
      "55000/55000 [==============================] - 4s 70us/sample - loss: 0.2241 - accuracy: 0.9202 - val_loss: 0.2992 - val_accuracy: 0.8918\n",
      "Epoch 2/30\n",
      "55000/55000 [==============================] - 4s 71us/sample - loss: 0.2202 - accuracy: 0.9211 - val_loss: 0.3008 - val_accuracy: 0.8940\n",
      "Epoch 3/30\n",
      "55000/55000 [==============================] - 4s 74us/sample - loss: 0.2166 - accuracy: 0.9224 - val_loss: 0.3025 - val_accuracy: 0.8912\n",
      "Epoch 4/30\n",
      "55000/55000 [==============================] - 4s 71us/sample - loss: 0.2132 - accuracy: 0.9236 - val_loss: 0.3020 - val_accuracy: 0.8910\n",
      "Epoch 5/30\n",
      "55000/55000 [==============================] - 4s 71us/sample - loss: 0.2095 - accuracy: 0.9243 - val_loss: 0.3291 - val_accuracy: 0.8782\n",
      "Epoch 6/30\n",
      "55000/55000 [==============================] - 4s 71us/sample - loss: 0.2068 - accuracy: 0.9253 - val_loss: 0.3099 - val_accuracy: 0.8880\n",
      "Epoch 7/30\n",
      "55000/55000 [==============================] - 4s 73us/sample - loss: 0.2023 - accuracy: 0.9270 - val_loss: 0.2919 - val_accuracy: 0.8976\n",
      "Epoch 8/30\n",
      "55000/55000 [==============================] - 4s 74us/sample - loss: 0.1992 - accuracy: 0.9295 - val_loss: 0.3096 - val_accuracy: 0.8894\n",
      "Epoch 9/30\n",
      "55000/55000 [==============================] - 4s 76us/sample - loss: 0.1970 - accuracy: 0.9295 - val_loss: 0.2955 - val_accuracy: 0.8928\n",
      "Epoch 10/30\n",
      "55000/55000 [==============================] - 4s 72us/sample - loss: 0.1946 - accuracy: 0.9310 - val_loss: 0.2881 - val_accuracy: 0.8976\n",
      "Epoch 11/30\n",
      "55000/55000 [==============================] - 4s 74us/sample - loss: 0.1910 - accuracy: 0.9317 - val_loss: 0.2886 - val_accuracy: 0.8968\n",
      "Epoch 12/30\n",
      "55000/55000 [==============================] - 4s 78us/sample - loss: 0.1880 - accuracy: 0.9338 - val_loss: 0.2895 - val_accuracy: 0.9000\n",
      "Epoch 13/30\n",
      "55000/55000 [==============================] - 4s 74us/sample - loss: 0.1853 - accuracy: 0.9336 - val_loss: 0.3225 - val_accuracy: 0.8872\n",
      "Epoch 14/30\n",
      "55000/55000 [==============================] - 4s 75us/sample - loss: 0.1827 - accuracy: 0.9340 - val_loss: 0.3022 - val_accuracy: 0.8932\n",
      "Epoch 15/30\n",
      "55000/55000 [==============================] - 4s 74us/sample - loss: 0.1802 - accuracy: 0.9351 - val_loss: 0.3090 - val_accuracy: 0.8868\n",
      "Epoch 16/30\n",
      "55000/55000 [==============================] - 4s 72us/sample - loss: 0.1772 - accuracy: 0.9373 - val_loss: 0.3066 - val_accuracy: 0.8932\n",
      "Epoch 17/30\n",
      "55000/55000 [==============================] - 4s 73us/sample - loss: 0.1737 - accuracy: 0.9380 - val_loss: 0.2977 - val_accuracy: 0.8986\n",
      "Epoch 18/30\n",
      "55000/55000 [==============================] - 4s 73us/sample - loss: 0.1709 - accuracy: 0.9393 - val_loss: 0.3013 - val_accuracy: 0.8936\n",
      "Epoch 19/30\n",
      "55000/55000 [==============================] - 4s 74us/sample - loss: 0.1686 - accuracy: 0.9399 - val_loss: 0.3235 - val_accuracy: 0.8842\n",
      "Epoch 20/30\n",
      "55000/55000 [==============================] - 4s 71us/sample - loss: 0.1654 - accuracy: 0.9416 - val_loss: 0.3229 - val_accuracy: 0.8906\n",
      "Epoch 21/30\n",
      "55000/55000 [==============================] - 4s 69us/sample - loss: 0.1641 - accuracy: 0.9424 - val_loss: 0.3111 - val_accuracy: 0.8918\n",
      "Epoch 22/30\n",
      "55000/55000 [==============================] - 4s 69us/sample - loss: 0.1616 - accuracy: 0.9428 - val_loss: 0.3062 - val_accuracy: 0.8922\n",
      "Epoch 23/30\n",
      "55000/55000 [==============================] - 4s 70us/sample - loss: 0.1595 - accuracy: 0.9441 - val_loss: 0.2980 - val_accuracy: 0.8938\n",
      "Epoch 24/30\n",
      "55000/55000 [==============================] - 4s 67us/sample - loss: 0.1560 - accuracy: 0.9456 - val_loss: 0.3078 - val_accuracy: 0.8948\n",
      "Epoch 25/30\n",
      "55000/55000 [==============================] - 4s 67us/sample - loss: 0.1543 - accuracy: 0.9454 - val_loss: 0.3492 - val_accuracy: 0.8762\n",
      "Epoch 26/30\n",
      "55000/55000 [==============================] - 4s 74us/sample - loss: 0.1527 - accuracy: 0.9457 - val_loss: 0.3039 - val_accuracy: 0.8930\n",
      "Epoch 27/30\n",
      "55000/55000 [==============================] - 4s 78us/sample - loss: 0.1504 - accuracy: 0.9463 - val_loss: 0.3146 - val_accuracy: 0.8930\n",
      "Epoch 28/30\n",
      "55000/55000 [==============================] - 4s 74us/sample - loss: 0.1464 - accuracy: 0.9487 - val_loss: 0.3173 - val_accuracy: 0.8928\n",
      "Epoch 29/30\n",
      "55000/55000 [==============================] - 4s 73us/sample - loss: 0.1451 - accuracy: 0.9475 - val_loss: 0.3175 - val_accuracy: 0.8904\n",
      "Epoch 30/30\n",
      "55000/55000 [==============================] - 4s 73us/sample - loss: 0.1428 - accuracy: 0.9495 - val_loss: 0.3029 - val_accuracy: 0.8984\n"
     ]
    }
   ],
   "source": [
    "history2 = model.fit(X_train, y_train, epochs=30,\n",
    "                    validation_data=(X_val, y_val))"
   ]
  },
  {
   "cell_type": "code",
   "execution_count": 36,
   "metadata": {},
   "outputs": [
    {
     "data": {
      "image/png": "[encoded data removed]",
      "text/plain": [
       "<Figure size 576x360 with 1 Axes>"
      ]
     },
     "metadata": {
      "needs_background": "light"
     },
     "output_type": "display_data"
    }
   ],
   "source": [
    "pd.DataFrame(history2.history).plot(figsize=(8,5))\n",
    "plt.grid(True)\n",
    "plt.gca().set_ylim(0, 1) \n",
    "plt.show()"
   ]
  },
  {
   "cell_type": "code",
   "execution_count": 37,
   "metadata": {},
   "outputs": [
    {
     "name": "stdout",
     "output_type": "stream",
     "text": [
      "10000/10000 [==============================] - 1s 58us/sample - loss: 73.2627 - accuracy: 0.8560\n"
     ]
    },
    {
     "data": {
      "text/plain": [
       "[73.26265138327963, 0.856]"
      ]
     },
     "execution_count": 37,
     "metadata": {},
     "output_type": "execute_result"
    }
   ],
   "source": [
    "model.evaluate(X_test, y_test)"
   ]
  },
  {
   "cell_type": "code",
   "execution_count": 39,
   "metadata": {},
   "outputs": [
    {
     "data": {
      "text/plain": [
       "array([[0., 0., 0., 0., 0., 0., 0., 0., 0., 1.],\n",
       "       [0., 0., 1., 0., 0., 0., 0., 0., 0., 0.],\n",
       "       [0., 1., 0., 0., 0., 0., 0., 0., 0., 0.]], dtype=float32)"
      ]
     },
     "execution_count": 39,
     "metadata": {},
     "output_type": "execute_result"
    }
   ],
   "source": [
    "X_new = X_test[:3]\n",
    "y_proba = model.predict(X_new)\n",
    "y_proba"
   ]
  },
  {
   "cell_type": "code",
   "execution_count": 40,
   "metadata": {},
   "outputs": [
    {
     "data": {
      "text/plain": [
       "array([9, 2, 1], dtype=int64)"
      ]
     },
     "execution_count": 40,
     "metadata": {},
     "output_type": "execute_result"
    }
   ],
   "source": [
    "y_pred = model.predict_classes(X_new)\n",
    "y_pred"
   ]
  },
  {
   "cell_type": "code",
   "execution_count": 42,
   "metadata": {},
   "outputs": [
    {
     "data": {
      "text/plain": [
       "array(['Ankle boot', 'Pullover', 'Trouser'], dtype='<U11')"
      ]
     },
     "execution_count": 42,
     "metadata": {},
     "output_type": "execute_result"
    }
   ],
   "source": [
    "import numpy as np\n",
    "\n",
    "np.array(class_names)[y_pred]"
   ]
  },
  {
   "cell_type": "code",
   "execution_count": null,
   "metadata": {},
   "outputs": [],
   "source": []
  }
 ],
 "metadata": {
  "kernelspec": {
   "display_name": "Python 3",
   "language": "python",
   "name": "python3"
  },
  "language_info": {
   "codemirror_mode": {
    "name": "ipython",
    "version": 3
   },
   "file_extension": ".py",
   "mimetype": "text/x-python",
   "name": "python",
   "nbconvert_exporter": "python",
   "pygments_lexer": "ipython3",
   "version": "3.7.6"
  }
 },
 "nbformat": 4,
 "nbformat_minor": 4
}
