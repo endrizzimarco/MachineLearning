{
 "cells": [
  {
   "cell_type": "code",
   "execution_count": 1,
   "metadata": {},
   "outputs": [],
   "source": [
    "import tensorflow as tf\n",
    "from tensorflow import keras"
   ]
  },
  {
   "cell_type": "code",
   "execution_count": 3,
   "metadata": {},
   "outputs": [
    {
     "name": "stdout",
     "output_type": "stream",
     "text": [
      "Downloading data from https://storage.googleapis.com/tensorflow/tf-keras-datasets/mnist.npz\n",
      "11493376/11490434 [==============================] - 4s 0us/step\n"
     ]
    }
   ],
   "source": [
    "mnist = keras.datasets.mnist\n",
    "(X_train_full, y_train_full), (X_test, y_test) = mnist.load_data()"
   ]
  },
  {
   "cell_type": "code",
   "execution_count": 4,
   "metadata": {},
   "outputs": [
    {
     "data": {
      "text/plain": [
       "(60000, 28, 28)"
      ]
     },
     "execution_count": 4,
     "metadata": {},
     "output_type": "execute_result"
    }
   ],
   "source": [
    "X_train_full.shape"
   ]
  },
  {
   "cell_type": "code",
   "execution_count": 5,
   "metadata": {},
   "outputs": [],
   "source": [
    "X_val, X_train = X_train_full[:5000] / 255.0, X_train_full[5000:] / 255.0"
   ]
  },
  {
   "cell_type": "code",
   "execution_count": 6,
   "metadata": {},
   "outputs": [],
   "source": [
    "y_val, y_train = y_train_full[:5000], y_train_full[5000:] "
   ]
  },
  {
   "cell_type": "code",
   "execution_count": 10,
   "metadata": {},
   "outputs": [
    {
     "name": "stdout",
     "output_type": "stream",
     "text": [
      "Model: \"sequential\"\n",
      "_________________________________________________________________\n",
      "Layer (type)                 Output Shape              Param #   \n",
      "=================================================================\n",
      "flatten (Flatten)            (None, 784)               0         \n",
      "_________________________________________________________________\n",
      "dense (Dense)                (None, 300)               235500    \n",
      "_________________________________________________________________\n",
      "dense_1 (Dense)              (None, 100)               30100     \n",
      "_________________________________________________________________\n",
      "dense_2 (Dense)              (None, 10)                1010      \n",
      "=================================================================\n",
      "Total params: 266,610\n",
      "Trainable params: 266,610\n",
      "Non-trainable params: 0\n",
      "_________________________________________________________________\n"
     ]
    }
   ],
   "source": [
    "model = keras.models.Sequential([\n",
    "    keras.layers.Flatten(input_shape=[28, 28]),\n",
    "    keras.layers.Dense(300, activation='relu'),\n",
    "    keras.layers.Dense(100, activation='relu'),\n",
    "    keras.layers.Dense(10, activation='softmax')\n",
    "])\n",
    "\n",
    "model.summary()"
   ]
  },
  {
   "cell_type": "code",
   "execution_count": 11,
   "metadata": {},
   "outputs": [],
   "source": [
    "model.compile(loss='sparse_categorical_crossentropy', optimizer='sgd', metrics=['accuracy'])"
   ]
  },
  {
   "cell_type": "code",
   "execution_count": 12,
   "metadata": {},
   "outputs": [
    {
     "name": "stdout",
     "output_type": "stream",
     "text": [
      "Train on 55000 samples, validate on 5000 samples\n",
      "Epoch 1/30\n",
      "55000/55000 [==============================] - 4s 74us/sample - loss: 0.5863 - accuracy: 0.8486 - val_loss: 0.3005 - val_accuracy: 0.9180\n",
      "Epoch 2/30\n",
      "55000/55000 [==============================] - 4s 69us/sample - loss: 0.2821 - accuracy: 0.9196 - val_loss: 0.2422 - val_accuracy: 0.9304\n",
      "Epoch 3/30\n",
      "55000/55000 [==============================] - 4s 67us/sample - loss: 0.2322 - accuracy: 0.9348 - val_loss: 0.2049 - val_accuracy: 0.9426\n",
      "Epoch 4/30\n",
      "55000/55000 [==============================] - 4s 69us/sample - loss: 0.1997 - accuracy: 0.9435 - val_loss: 0.1770 - val_accuracy: 0.9518\n",
      "Epoch 5/30\n",
      "55000/55000 [==============================] - 4s 71us/sample - loss: 0.1747 - accuracy: 0.9506 - val_loss: 0.1602 - val_accuracy: 0.9552\n",
      "Epoch 6/30\n",
      "55000/55000 [==============================] - 4s 72us/sample - loss: 0.1557 - accuracy: 0.9554 - val_loss: 0.1469 - val_accuracy: 0.9572\n",
      "Epoch 7/30\n",
      "55000/55000 [==============================] - 4s 67us/sample - loss: 0.1401 - accuracy: 0.9605 - val_loss: 0.1355 - val_accuracy: 0.9616\n",
      "Epoch 8/30\n",
      "55000/55000 [==============================] - 4s 67us/sample - loss: 0.1269 - accuracy: 0.9639 - val_loss: 0.1265 - val_accuracy: 0.9640\n",
      "Epoch 9/30\n",
      "55000/55000 [==============================] - 4s 69us/sample - loss: 0.1156 - accuracy: 0.9678 - val_loss: 0.1214 - val_accuracy: 0.9662\n",
      "Epoch 10/30\n",
      "55000/55000 [==============================] - 4s 67us/sample - loss: 0.1060 - accuracy: 0.9700 - val_loss: 0.1112 - val_accuracy: 0.9686\n",
      "Epoch 11/30\n",
      "55000/55000 [==============================] - 4s 67us/sample - loss: 0.0978 - accuracy: 0.9717 - val_loss: 0.1082 - val_accuracy: 0.9708\n",
      "Epoch 12/30\n",
      "55000/55000 [==============================] - 4s 69us/sample - loss: 0.0900 - accuracy: 0.9752 - val_loss: 0.1007 - val_accuracy: 0.9708\n",
      "Epoch 13/30\n",
      "55000/55000 [==============================] - 4s 69us/sample - loss: 0.0837 - accuracy: 0.9768 - val_loss: 0.0938 - val_accuracy: 0.9734\n",
      "Epoch 14/30\n",
      "55000/55000 [==============================] - 4s 69us/sample - loss: 0.0781 - accuracy: 0.9780 - val_loss: 0.0939 - val_accuracy: 0.9716\n",
      "Epoch 15/30\n",
      "55000/55000 [==============================] - 4s 69us/sample - loss: 0.0729 - accuracy: 0.9793 - val_loss: 0.0890 - val_accuracy: 0.9738\n",
      "Epoch 16/30\n",
      "55000/55000 [==============================] - 4s 68us/sample - loss: 0.0677 - accuracy: 0.9814 - val_loss: 0.0874 - val_accuracy: 0.9748\n",
      "Epoch 17/30\n",
      "55000/55000 [==============================] - 4s 69us/sample - loss: 0.0633 - accuracy: 0.9826 - val_loss: 0.0852 - val_accuracy: 0.9756\n",
      "Epoch 18/30\n",
      "55000/55000 [==============================] - 4s 69us/sample - loss: 0.0593 - accuracy: 0.9835 - val_loss: 0.0829 - val_accuracy: 0.9754\n",
      "Epoch 19/30\n",
      "55000/55000 [==============================] - 4s 71us/sample - loss: 0.0558 - accuracy: 0.9848 - val_loss: 0.0790 - val_accuracy: 0.9790\n",
      "Epoch 20/30\n",
      "55000/55000 [==============================] - 4s 66us/sample - loss: 0.0524 - accuracy: 0.9857 - val_loss: 0.0782 - val_accuracy: 0.9774\n",
      "Epoch 21/30\n",
      "55000/55000 [==============================] - 4s 69us/sample - loss: 0.0491 - accuracy: 0.9870 - val_loss: 0.0762 - val_accuracy: 0.9766\n",
      "Epoch 22/30\n",
      "55000/55000 [==============================] - 4s 69us/sample - loss: 0.0464 - accuracy: 0.9877 - val_loss: 0.0735 - val_accuracy: 0.9788\n",
      "Epoch 23/30\n",
      "55000/55000 [==============================] - 4s 77us/sample - loss: 0.0434 - accuracy: 0.9886 - val_loss: 0.0741 - val_accuracy: 0.9782\n",
      "Epoch 24/30\n",
      "55000/55000 [==============================] - 4s 78us/sample - loss: 0.0410 - accuracy: 0.9898 - val_loss: 0.0727 - val_accuracy: 0.9794\n",
      "Epoch 25/30\n",
      "55000/55000 [==============================] - 4s 70us/sample - loss: 0.0388 - accuracy: 0.9900 - val_loss: 0.0730 - val_accuracy: 0.9806\n",
      "Epoch 26/30\n",
      "55000/55000 [==============================] - 3s 63us/sample - loss: 0.0364 - accuracy: 0.9909 - val_loss: 0.0719 - val_accuracy: 0.9780\n",
      "Epoch 27/30\n",
      "55000/55000 [==============================] - 4s 69us/sample - loss: 0.0342 - accuracy: 0.9919 - val_loss: 0.0743 - val_accuracy: 0.9786\n",
      "Epoch 28/30\n",
      "55000/55000 [==============================] - 4s 64us/sample - loss: 0.0326 - accuracy: 0.9923 - val_loss: 0.0695 - val_accuracy: 0.9808\n",
      "Epoch 29/30\n",
      "55000/55000 [==============================] - 4s 69us/sample - loss: 0.0306 - accuracy: 0.9931 - val_loss: 0.0700 - val_accuracy: 0.9806\n",
      "Epoch 30/30\n",
      "55000/55000 [==============================] - 4s 68us/sample - loss: 0.0289 - accuracy: 0.9935 - val_loss: 0.0695 - val_accuracy: 0.9792\n"
     ]
    }
   ],
   "source": [
    "history = model.fit(X_train, y_train, epochs=30,\n",
    "                    validation_data=(X_val, y_val))"
   ]
  },
  {
   "cell_type": "code",
   "execution_count": 13,
   "metadata": {},
   "outputs": [
    {
     "data": {
      "text/plain": [
       "{'batch_size': 32,\n",
       " 'epochs': 30,\n",
       " 'steps': 1719,\n",
       " 'samples': 55000,\n",
       " 'verbose': 0,\n",
       " 'do_validation': True,\n",
       " 'metrics': ['loss', 'accuracy', 'val_loss', 'val_accuracy']}"
      ]
     },
     "execution_count": 13,
     "metadata": {},
     "output_type": "execute_result"
    }
   ],
   "source": [
    "histoury.params"
   ]
  },
  {
   "cell_type": "code",
   "execution_count": null,
   "metadata": {},
   "outputs": [],
   "source": []
  }
 ],
 "metadata": {
  "kernelspec": {
   "display_name": "Python 3",
   "language": "python",
   "name": "python3"
  },
  "language_info": {
   "codemirror_mode": {
    "name": "ipython",
    "version": 3
   },
   "file_extension": ".py",
   "mimetype": "text/x-python",
   "name": "python",
   "nbconvert_exporter": "python",
   "pygments_lexer": "ipython3",
   "version": "3.7.6"
  }
 },
 "nbformat": 4,
 "nbformat_minor": 4
}
