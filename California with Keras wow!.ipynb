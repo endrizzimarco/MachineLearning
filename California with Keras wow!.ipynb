{
 "cells": [
  {
   "cell_type": "code",
   "execution_count": 118,
   "metadata": {},
   "outputs": [],
   "source": [
    "import tensorflow as tf\n",
    "from tensorflow import keras\n",
    "import numpy as np\n",
    "from sklearn.datasets import fetch_california_housing\n",
    "from sklearn.model_selection import train_test_split\n",
    "from sklearn.preprocessing import StandardScaler\n",
    "\n",
    "housing = fetch_california_housing()"
   ]
  },
  {
   "cell_type": "code",
   "execution_count": 119,
   "metadata": {},
   "outputs": [],
   "source": [
    "X_train_full, X_test, y_train_full, y_test = train_test_split(\n",
    " housing.data, housing.target)\n",
    "X_train, X_val, y_train, y_val = train_test_split(\n",
    " X_train_full, y_train_full)\n",
    "\n",
    "scaler = StandardScaler()\n",
    "\n",
    "X_train = scaler.fit_transform(X_train)\n",
    "X_val = scaler.transform(X_val)\n",
    "X_test = scaler.transform(X_test)"
   ]
  },
  {
   "cell_type": "code",
   "execution_count": 120,
   "metadata": {},
   "outputs": [
    {
     "data": {
      "text/plain": [
       "array([[-0.70426162,  1.20940508, -0.16719423, ...,  0.02727911,\n",
       "        -0.80299545,  0.65892505],\n",
       "       [-0.33559771,  0.89324033, -0.53455137, ..., -0.08894193,\n",
       "        -0.69055322,  0.63400085],\n",
       "       [ 0.48904802,  0.57707557,  0.241347  , ..., -0.024643  ,\n",
       "        -0.66712775,  0.61406149],\n",
       "       ...,\n",
       "       [-0.12742288, -1.24087178,  0.02768153, ..., -0.0146155 ,\n",
       "         0.45729451,  0.05575937],\n",
       "       [-0.81256128, -1.0827894 ,  0.03193569, ...,  0.02090444,\n",
       "        -1.38394695,  2.03972583],\n",
       "       [ 0.46022463, -1.95224248, -0.06842147, ..., -0.05057165,\n",
       "        -0.92480786,  0.94804579]])"
      ]
     },
     "execution_count": 120,
     "metadata": {},
     "output_type": "execute_result"
    }
   ],
   "source": [
    "X_train"
   ]
  },
  {
   "cell_type": "code",
   "execution_count": 121,
   "metadata": {},
   "outputs": [],
   "source": [
    "model = keras.models.Sequential([\n",
    "    keras.layers.Dense(30, activation='relu', input_shape=X_train.shape[1:]),\n",
    "    keras.layers.Dense(1)\n",
    "])"
   ]
  },
  {
   "cell_type": "code",
   "execution_count": 122,
   "metadata": {},
   "outputs": [],
   "source": [
    "model.compile(loss='mean_squared_error', optimizer='sgd')"
   ]
  },
  {
   "cell_type": "code",
   "execution_count": 123,
   "metadata": {},
   "outputs": [
    {
     "name": "stdout",
     "output_type": "stream",
     "text": [
      "Train on 11610 samples, validate on 3870 samples\n",
      "Epoch 1/20\n",
      "11610/11610 [==============================] - 1s 93us/sample - loss: 1.0627 - val_loss: 0.5774\n",
      "Epoch 2/20\n",
      "11610/11610 [==============================] - 1s 44us/sample - loss: 0.4862 - val_loss: 0.4826\n",
      "Epoch 3/20\n",
      "11610/11610 [==============================] - 1s 49us/sample - loss: 0.4502 - val_loss: 0.4724\n",
      "Epoch 4/20\n",
      "11610/11610 [==============================] - 1s 50us/sample - loss: 0.4299 - val_loss: 0.4549\n",
      "Epoch 5/20\n",
      "11610/11610 [==============================] - 1s 50us/sample - loss: 0.4557 - val_loss: 0.4538\n",
      "Epoch 6/20\n",
      "11610/11610 [==============================] - 1s 48us/sample - loss: 0.4281 - val_loss: 0.4327\n",
      "Epoch 7/20\n",
      "11610/11610 [==============================] - 1s 49us/sample - loss: 0.4004 - val_loss: 0.4281\n",
      "Epoch 8/20\n",
      "11610/11610 [==============================] - 1s 47us/sample - loss: 0.3950 - val_loss: 0.4199\n",
      "Epoch 9/20\n",
      "11610/11610 [==============================] - 1s 49us/sample - loss: 0.3900 - val_loss: 0.4220\n",
      "Epoch 10/20\n",
      "11610/11610 [==============================] - 1s 46us/sample - loss: 0.3842 - val_loss: 0.4210\n",
      "Epoch 11/20\n",
      "11610/11610 [==============================] - 1s 52us/sample - loss: 0.3851 - val_loss: 0.4825\n",
      "Epoch 12/20\n",
      "11610/11610 [==============================] - 1s 51us/sample - loss: 0.3796 - val_loss: 0.4066\n",
      "Epoch 13/20\n",
      "11610/11610 [==============================] - 1s 50us/sample - loss: 0.3769 - val_loss: 0.4072\n",
      "Epoch 14/20\n",
      "11610/11610 [==============================] - 1s 49us/sample - loss: 0.3725 - val_loss: 0.4050\n",
      "Epoch 15/20\n",
      "11610/11610 [==============================] - 1s 47us/sample - loss: 0.3718 - val_loss: 0.4020\n",
      "Epoch 16/20\n",
      "11610/11610 [==============================] - 1s 48us/sample - loss: 0.3687 - val_loss: 0.4018\n",
      "Epoch 17/20\n",
      "11610/11610 [==============================] - 1s 44us/sample - loss: 0.3670 - val_loss: 0.4007\n",
      "Epoch 18/20\n",
      "11610/11610 [==============================] - 1s 46us/sample - loss: 0.3650 - val_loss: 0.4002\n",
      "Epoch 19/20\n",
      "11610/11610 [==============================] - 1s 50us/sample - loss: 0.3630 - val_loss: 0.3988\n",
      "Epoch 20/20\n",
      "11610/11610 [==============================] - 1s 52us/sample - loss: 0.3618 - val_loss: 0.3995\n"
     ]
    }
   ],
   "source": [
    "history = model.fit(X_train, y_train, epochs=20,\n",
    "                    validation_data=(X_val, y_val))"
   ]
  },
  {
   "cell_type": "code",
   "execution_count": 124,
   "metadata": {},
   "outputs": [
    {
     "name": "stdout",
     "output_type": "stream",
     "text": [
      "11610/11610 [==============================] - 0s 25us/sample - loss: 0.3571\n"
     ]
    }
   ],
   "source": [
    "mse_test = model.evaluate(X_train, y_train)"
   ]
  },
  {
   "cell_type": "code",
   "execution_count": 125,
   "metadata": {},
   "outputs": [],
   "source": [
    "X_new = X_test[:3]\n",
    "y_pred = model.predict(X_new)"
   ]
  },
  {
   "cell_type": "code",
   "execution_count": 126,
   "metadata": {},
   "outputs": [],
   "source": [
    "import os\n",
    "root_logdir = os.path.join(os.curdir, \"my_logs\")\n",
    "def get_run_logdir():\n",
    " import time\n",
    " run_id = time.strftime(\"run_%Y_%m_%d-%H_%M_%S\")\n",
    " return os.path.join(root_logdir, run_id)"
   ]
  },
  {
   "cell_type": "code",
   "execution_count": 127,
   "metadata": {},
   "outputs": [],
   "source": [
    "run_logdir = get_run_logdir()"
   ]
  },
  {
   "cell_type": "code",
   "execution_count": 128,
   "metadata": {},
   "outputs": [],
   "source": [
    "keras.backend.clear_session()\n",
    "np.random.seed(42)\n",
    "tf.random.set_seed(42)"
   ]
  },
  {
   "cell_type": "code",
   "execution_count": 129,
   "metadata": {},
   "outputs": [],
   "source": [
    "model = keras.models.Sequential([\n",
    "    keras.layers.Dense(30, activation=\"relu\", input_shape=[8]),\n",
    "    keras.layers.Dense(30, activation=\"relu\"),\n",
    "    keras.layers.Dense(1)\n",
    "])    \n",
    "model.compile(loss=\"mse\", optimizer=keras.optimizers.SGD(lr=1e-3))"
   ]
  },
  {
   "cell_type": "code",
   "execution_count": 130,
   "metadata": {},
   "outputs": [],
   "source": [
    "tensorboard_cb = keras.callbacks.TensorBoard(run_logdir)"
   ]
  },
  {
   "cell_type": "code",
   "execution_count": 131,
   "metadata": {},
   "outputs": [
    {
     "name": "stdout",
     "output_type": "stream",
     "text": [
      "Train on 11610 samples, validate on 3870 samples\n",
      "Epoch 1/30\n",
      "11610/11610 [==============================] - 1s 95us/sample - loss: 1.8329 - val_loss: 0.8010\n",
      "Epoch 2/30\n",
      "11610/11610 [==============================] - 1s 61us/sample - loss: 0.7334 - val_loss: 0.6487\n",
      "Epoch 3/30\n",
      "11610/11610 [==============================] - 1s 53us/sample - loss: 0.6181 - val_loss: 0.6009\n",
      "Epoch 4/30\n",
      "11610/11610 [==============================] - 1s 61us/sample - loss: 0.5767 - val_loss: 0.5713\n",
      "Epoch 5/30\n",
      "11610/11610 [==============================] - 1s 53us/sample - loss: 0.5489 - val_loss: 0.5480\n",
      "Epoch 6/30\n",
      "11610/11610 [==============================] - 1s 59us/sample - loss: 0.5273 - val_loss: 0.5305\n",
      "Epoch 7/30\n",
      "11610/11610 [==============================] - 1s 60us/sample - loss: 0.5101 - val_loss: 0.5158\n",
      "Epoch 8/30\n",
      "11610/11610 [==============================] - 1s 65us/sample - loss: 0.4966 - val_loss: 0.5048\n",
      "Epoch 9/30\n",
      "11610/11610 [==============================] - 1s 53us/sample - loss: 0.4857 - val_loss: 0.4965\n",
      "Epoch 10/30\n",
      "11610/11610 [==============================] - 1s 53us/sample - loss: 0.4773 - val_loss: 0.4891\n",
      "Epoch 11/30\n",
      "11610/11610 [==============================] - 1s 54us/sample - loss: 0.4705 - val_loss: 0.4823\n",
      "Epoch 12/30\n",
      "11610/11610 [==============================] - 1s 55us/sample - loss: 0.4647 - val_loss: 0.4779\n",
      "Epoch 13/30\n",
      "11610/11610 [==============================] - 1s 53us/sample - loss: 0.4594 - val_loss: 0.4741\n",
      "Epoch 14/30\n",
      "11610/11610 [==============================] - 1s 53us/sample - loss: 0.4561 - val_loss: 0.4706\n",
      "Epoch 15/30\n",
      "11610/11610 [==============================] - 1s 60us/sample - loss: 0.4521 - val_loss: 0.4673\n",
      "Epoch 16/30\n",
      "11610/11610 [==============================] - 1s 55us/sample - loss: 0.4489 - val_loss: 0.4646\n",
      "Epoch 17/30\n",
      "11610/11610 [==============================] - 1s 56us/sample - loss: 0.4462 - val_loss: 0.4617\n",
      "Epoch 18/30\n",
      "11610/11610 [==============================] - 1s 56us/sample - loss: 0.4433 - val_loss: 0.4592\n",
      "Epoch 19/30\n",
      "11610/11610 [==============================] - 1s 54us/sample - loss: 0.4413 - val_loss: 0.4567\n",
      "Epoch 20/30\n",
      "11610/11610 [==============================] - 1s 54us/sample - loss: 0.4388 - val_loss: 0.4561\n",
      "Epoch 21/30\n",
      "11610/11610 [==============================] - 1s 61us/sample - loss: 0.4369 - val_loss: 0.4539\n",
      "Epoch 22/30\n",
      "11610/11610 [==============================] - 1s 53us/sample - loss: 0.4350 - val_loss: 0.4524\n",
      "Epoch 23/30\n",
      "11610/11610 [==============================] - 1s 55us/sample - loss: 0.4330 - val_loss: 0.4498\n",
      "Epoch 24/30\n",
      "11610/11610 [==============================] - 1s 58us/sample - loss: 0.4311 - val_loss: 0.4479\n",
      "Epoch 25/30\n",
      "11610/11610 [==============================] - 1s 53us/sample - loss: 0.4296 - val_loss: 0.4461\n",
      "Epoch 26/30\n",
      "11610/11610 [==============================] - 1s 54us/sample - loss: 0.4277 - val_loss: 0.4466\n",
      "Epoch 27/30\n",
      "11610/11610 [==============================] - 1s 53us/sample - loss: 0.4268 - val_loss: 0.4437\n",
      "Epoch 28/30\n",
      "11610/11610 [==============================] - 1s 53us/sample - loss: 0.4244 - val_loss: 0.4427\n",
      "Epoch 29/30\n",
      "11610/11610 [==============================] - 1s 53us/sample - loss: 0.4230 - val_loss: 0.4412\n",
      "Epoch 30/30\n",
      "11610/11610 [==============================] - 1s 52us/sample - loss: 0.4215 - val_loss: 0.4400\n"
     ]
    }
   ],
   "source": [
    "history = model.fit(X_train, y_train, epochs=30,\n",
    "                    validation_data=(X_val, y_val),\n",
    "                    callbacks=[tensorboard_cb])"
   ]
  },
  {
   "cell_type": "code",
   "execution_count": 132,
   "metadata": {},
   "outputs": [
    {
     "name": "stdout",
     "output_type": "stream",
     "text": [
      "The tensorboard extension is already loaded. To reload it, use:\n",
      "  %reload_ext tensorboard\n"
     ]
    },
    {
     "data": {
      "text/plain": [
       "Reusing TensorBoard on port 6006 (pid 8344), started 0:32:20 ago. (Use '!kill 8344' to kill it.)"
      ]
     },
     "metadata": {},
     "output_type": "display_data"
    },
    {
     "data": {
      "text/html": [
       "\n",
       "      <iframe id=\"tensorboard-frame-5cb77746111fb07f\" width=\"100%\" height=\"800\" frameborder=\"0\">\n",
       "      </iframe>\n",
       "      <script>\n",
       "        (function() {\n",
       "          const frame = document.getElementById(\"tensorboard-frame-5cb77746111fb07f\");\n",
       "          const url = new URL(\"/\", window.location);\n",
       "          url.port = 6006;\n",
       "          frame.src = url;\n",
       "        })();\n",
       "      </script>\n",
       "  "
      ],
      "text/plain": [
       "<IPython.core.display.HTML object>"
      ]
     },
     "metadata": {},
     "output_type": "display_data"
    }
   ],
   "source": [
    "%load_ext tensorboard\n",
    "%tensorboard --logdir=./my_logs --port=6006"
   ]
  },
  {
   "cell_type": "code",
   "execution_count": 133,
   "metadata": {},
   "outputs": [
    {
     "data": {
      "text/plain": [
       "'.\\\\my_logs\\\\run_2020_08_06-01_32_26'"
      ]
     },
     "execution_count": 133,
     "metadata": {},
     "output_type": "execute_result"
    }
   ],
   "source": [
    "run_logdir2 = get_run_logdir()\n",
    "run_logdir2"
   ]
  },
  {
   "cell_type": "code",
   "execution_count": 134,
   "metadata": {},
   "outputs": [],
   "source": [
    "keras.backend.clear_session()\n",
    "np.random.seed(42)\n",
    "tf.random.set_seed(42)"
   ]
  },
  {
   "cell_type": "code",
   "execution_count": 135,
   "metadata": {},
   "outputs": [],
   "source": [
    "model = keras.models.Sequential([\n",
    "    keras.layers.Dense(30, activation=\"relu\", input_shape=[8]),\n",
    "    keras.layers.Dense(30, activation=\"relu\"),\n",
    "    keras.layers.Dense(1)\n",
    "])    \n",
    "model.compile(loss=\"mse\", optimizer=keras.optimizers.SGD(lr=0.05))"
   ]
  },
  {
   "cell_type": "code",
   "execution_count": 136,
   "metadata": {},
   "outputs": [
    {
     "name": "stdout",
     "output_type": "stream",
     "text": [
      "Train on 11610 samples, validate on 3870 samples\n",
      "Epoch 1/30\n",
      "11610/11610 [==============================] - 1s 102us/sample - loss: nan - val_loss: nan\n",
      "Epoch 2/30\n",
      "11610/11610 [==============================] - 1s 55us/sample - loss: nan - val_loss: nan\n",
      "Epoch 3/30\n",
      "11610/11610 [==============================] - 1s 53us/sample - loss: nan - val_loss: nan\n",
      "Epoch 4/30\n",
      "11610/11610 [==============================] - 1s 54us/sample - loss: nan - val_loss: nan\n",
      "Epoch 5/30\n",
      "11610/11610 [==============================] - 1s 53us/sample - loss: nan - val_loss: nan\n",
      "Epoch 6/30\n",
      "11610/11610 [==============================] - 1s 54us/sample - loss: nan - val_loss: nan\n",
      "Epoch 7/30\n",
      "11610/11610 [==============================] - 1s 54us/sample - loss: nan - val_loss: nan\n",
      "Epoch 8/30\n",
      "11610/11610 [==============================] - 1s 56us/sample - loss: nan - val_loss: nan\n",
      "Epoch 9/30\n",
      "11610/11610 [==============================] - 1s 53us/sample - loss: nan - val_loss: nan\n",
      "Epoch 10/30\n",
      "11610/11610 [==============================] - 1s 53us/sample - loss: nan - val_loss: nan\n",
      "Epoch 11/30\n",
      "11610/11610 [==============================] - 1s 53us/sample - loss: nan - val_loss: nan\n",
      "Epoch 12/30\n",
      "11610/11610 [==============================] - 1s 54us/sample - loss: nan - val_loss: nan\n",
      "Epoch 13/30\n",
      "11610/11610 [==============================] - 1s 64us/sample - loss: nan - val_loss: nan\n",
      "Epoch 14/30\n",
      "11610/11610 [==============================] - 1s 61us/sample - loss: nan - val_loss: nan\n",
      "Epoch 15/30\n",
      "11610/11610 [==============================] - 1s 64us/sample - loss: nan - val_loss: nan\n",
      "Epoch 16/30\n",
      "11610/11610 [==============================] - 1s 60us/sample - loss: nan - val_loss: nan\n",
      "Epoch 17/30\n",
      "11610/11610 [==============================] - 1s 65us/sample - loss: nan - val_loss: nan\n",
      "Epoch 18/30\n",
      "11610/11610 [==============================] - 1s 59us/sample - loss: nan - val_loss: nan\n",
      "Epoch 19/30\n",
      "11610/11610 [==============================] - 1s 70us/sample - loss: nan - val_loss: nan\n",
      "Epoch 20/30\n",
      "11610/11610 [==============================] - 1s 60us/sample - loss: nan - val_loss: nan\n",
      "Epoch 21/30\n",
      "11610/11610 [==============================] - 1s 60us/sample - loss: nan - val_loss: nan\n",
      "Epoch 22/30\n",
      "11610/11610 [==============================] - 1s 65us/sample - loss: nan - val_loss: nan\n",
      "Epoch 23/30\n",
      "11610/11610 [==============================] - 1s 63us/sample - loss: nan - val_loss: nan\n",
      "Epoch 24/30\n",
      "11610/11610 [==============================] - 1s 60us/sample - loss: nan - val_loss: nan\n",
      "Epoch 25/30\n",
      "11610/11610 [==============================] - 1s 55us/sample - loss: nan - val_loss: nan\n",
      "Epoch 26/30\n",
      "11610/11610 [==============================] - 1s 56us/sample - loss: nan - val_loss: nan\n",
      "Epoch 27/30\n",
      "11610/11610 [==============================] - 1s 57us/sample - loss: nan - val_loss: nan\n",
      "Epoch 28/30\n",
      "11610/11610 [==============================] - 1s 65us/sample - loss: nan - val_loss: nan\n",
      "Epoch 29/30\n",
      "11610/11610 [==============================] - 1s 69us/sample - loss: nan - val_loss: nan\n",
      "Epoch 30/30\n",
      "11610/11610 [==============================] - 1s 58us/sample - loss: nan - val_loss: nan\n"
     ]
    }
   ],
   "source": [
    "tensorboard_cb = keras.callbacks.TensorBoard(run_logdir2)\n",
    "history = model.fit(X_train, y_train, epochs=30,\n",
    "                    validation_data=(X_val, y_val),\n",
    "                    callbacks=[tensorboard_cb])"
   ]
  },
  {
   "cell_type": "code",
   "execution_count": null,
   "metadata": {},
   "outputs": [],
   "source": []
  },
  {
   "cell_type": "code",
   "execution_count": null,
   "metadata": {},
   "outputs": [],
   "source": []
  }
 ],
 "metadata": {
  "kernelspec": {
   "display_name": "Python 3",
   "language": "python",
   "name": "python3"
  },
  "language_info": {
   "codemirror_mode": {
    "name": "ipython",
    "version": 3
   },
   "file_extension": ".py",
   "mimetype": "text/x-python",
   "name": "python",
   "nbconvert_exporter": "python",
   "pygments_lexer": "ipython3",
   "version": "3.7.6"
  }
 },
 "nbformat": 4,
 "nbformat_minor": 4
}
